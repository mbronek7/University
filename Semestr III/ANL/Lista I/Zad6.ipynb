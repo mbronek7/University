{
 "cells": [
  {
   "cell_type": "code",
   "execution_count": 2,
   "metadata": {},
   "outputs": [
    {
     "ename": "SyntaxError",
     "evalue": "invalid syntax (<ipython-input-2-80b296841efa>, line 1)",
     "output_type": "error",
     "traceback": [
      "\u001b[0;36m  File \u001b[0;32m\"<ipython-input-2-80b296841efa>\"\u001b[0;36m, line \u001b[0;32m1\u001b[0m\n\u001b[0;31m    require 'nyaplot'\u001b[0m\n\u001b[0m                    ^\u001b[0m\n\u001b[0;31mSyntaxError\u001b[0m\u001b[0;31m:\u001b[0m invalid syntax\n"
     ]
    }
   ],
   "source": [
    "require 'nyaplot'\n",
    "require 'gnuplot'\n",
    "class Function\n",
    " \n",
    "  def initialize(&block)\n",
    "     @function = block\n",
    "  end\n",
    "\n",
    "  def value (x)   \n",
    "    @function.call x\n",
    "  end\n",
    " \n",
    "  \n",
    " def plot a, b\n",
    "   x = []; y = []; \n",
    "   x = (a..b) .collect { |v| v.to_f }\n",
    "   y = x.collect { |v| value(v)}\n",
    "   plot1 = Nyaplot::Plot.new\n",
    "   plot1.add(:line, x, y)\n",
    "   plot1.show\n",
    "end\n",
    "\n",
    " \n",
    "def plot2 a, b\n",
    "\n",
    "    Gnuplot.open do |gp|\n",
    "     Gnuplot::Plot.new( gp ) do |plot|\n",
    "\n",
    "         \n",
    "         plot.xrange \"[#{a}:#{b}]\"\n",
    "         plot.ylabel \"y\"\n",
    "         plot.xlabel \"x\"\n",
    "\n",
    "         x = (a..b) .collect { |v|v.to_f }\n",
    "         y = x.collect { |v| value(v)}\n",
    "\n",
    "         plot.data << Gnuplot::DataSet.new( [x, y] ) do |ds|\n",
    "          ds.with = \"lines\"\n",
    "         end\n",
    "\n",
    "\n",
    "     end\n",
    "    end\n",
    "end  \n",
    "  \n",
    "def zero_of_fun(a,b,c)\n",
    "   begin \n",
    "   delta = b*b-4*a*c \n",
    "   x1 = (-b + Math.sqrt(delta)) / (2.0*a)\n",
    "   x2 = (-b - Math.sqrt(delta)) / (2.0*a)\n",
    "   print \"Miejsca zerowe to: x1 = #{x1} || x2 = #{x2}\\n\"\n",
    "   print\"Wartość funkcji w tych punktach to odpowiednio dla #{x1} -- #{self.value(x1)}, a dla #{x2} --#{self.value(x1)}\\n \"\n",
    "   rescue \n",
    "   print \"delta < 0\"\n",
    "   end\n",
    "end\n",
    "  \n",
    "end"
   ]
  },
  {
   "cell_type": "code",
   "execution_count": null,
   "metadata": {
    "collapsed": true
   },
   "outputs": [],
   "source": []
  }
 ],
 "metadata": {
  "kernelspec": {
   "display_name": "Python 2",
   "language": "python",
   "name": "python2"
  },
  "language_info": {
   "codemirror_mode": {
    "name": "ipython",
    "version": 2
   },
   "file_extension": ".py",
   "mimetype": "text/x-python",
   "name": "python",
   "nbconvert_exporter": "python",
   "pygments_lexer": "ipython2",
   "version": "2.7.12"
  }
 },
 "nbformat": 4,
 "nbformat_minor": 2
}
