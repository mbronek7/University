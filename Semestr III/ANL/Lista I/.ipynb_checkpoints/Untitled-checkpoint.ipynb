{
 "cells": [
  {
   "cell_type": "code",
   "execution_count": 11,
   "metadata": {},
   "outputs": [
    {
     "data": {
      "text/plain": [
       ":plot2"
      ]
     },
     "execution_count": 11,
     "metadata": {},
     "output_type": "execute_result"
    }
   ],
   "source": [
    "require 'nyaplot'\n",
    "require 'gnuplot'\n",
    "class Function\n",
    " \n",
    "  def initialize(&block)\n",
    "     @function = block\n",
    "  end\n",
    "\n",
    "  def value (x)   \n",
    "    @function.call x\n",
    "  end\n",
    " \n",
    "  \n",
    " def plot a, b\n",
    "   x = []; y = []; \n",
    "   x = (a..b) .collect { |v| v.to_f }\n",
    "   y = x.collect { |v| value(v)}\n",
    "   plot1 = Nyaplot::Plot.new\n",
    "   plot1.add(:line, x, y)\n",
    "   plot1.show\n",
    "end\n",
    "\n",
    " \n",
    "def plot2 a, b\n",
    "\n",
    "    Gnuplot.open do |gp|\n",
    "     Gnuplot::Plot.new( gp ) do |plot|\n",
    "\n",
    "         \n",
    "         plot.xrange \"[#{a}:#{b}]\"\n",
    "         plot.ylabel \"y\"\n",
    "         plot.xlabel \"x\"\n",
    "\n",
    "         x = (a..b) .collect { |v|v.to_f }\n",
    "         y = x.collect { |v| value(v)}\n",
    "\n",
    "         plot.data << Gnuplot::DataSet.new( [x, y] ) do |ds|\n",
    "          ds.with = \"lines\"\n",
    "         end\n",
    "\n",
    "\n",
    "     end\n",
    "    end\n",
    "end  \n",
    "  \n",
    "end"
   ]
  },
  {
   "cell_type": "code",
   "execution_count": 12,
   "metadata": {
    "slideshow": {
     "slide_type": "slide"
    }
   },
   "outputs": [
    {
     "data": {
      "text/html": [
       "<div id='vis-110e765b-b093-474c-be71-d609e7fbff3c'></div>\n",
       "<script>\n",
       "(function(){\n",
       "    var render = function(){\n",
       "        var model = {\"panes\":[{\"diagrams\":[{\"type\":\"line\",\"options\":{\"x\":\"data0\",\"y\":\"data1\"},\"data\":\"d8d6fd53-0302-447b-bdef-3e31ee002d28\"}],\"options\":{\"zoom\":true,\"width\":700,\"xrange\":[1.0,10.0],\"yrange\":[0.7853981633974483,1.4711276743037347]}}],\"data\":{\"d8d6fd53-0302-447b-bdef-3e31ee002d28\":[{\"data0\":1.0,\"data1\":0.7853981633974483},{\"data0\":2.0,\"data1\":1.1071487177940904},{\"data0\":3.0,\"data1\":1.2490457723982544},{\"data0\":4.0,\"data1\":1.3258176636680326},{\"data0\":5.0,\"data1\":1.373400766945016},{\"data0\":6.0,\"data1\":1.4056476493802699},{\"data0\":7.0,\"data1\":1.4288992721907328},{\"data0\":8.0,\"data1\":1.446441332248135},{\"data0\":9.0,\"data1\":1.460139105621001},{\"data0\":10.0,\"data1\":1.4711276743037347}]},\"extension\":[]}\n",
       "        var id_name = '#vis-110e765b-b093-474c-be71-d609e7fbff3c';\n",
       "        Nyaplot.core.parse(model, id_name);\n",
       "\n",
       "        require(['downloadable'], function(downloadable){\n",
       "          var svg = d3.select(id_name).select(\"svg\");\n",
       "\t  if(!svg.empty())\n",
       "\t    svg.call(downloadable().filename('fig'));\n",
       "\t});\n",
       "    };\n",
       "    if(window['Nyaplot']==undefined){\n",
       "        window.addEventListener('load_nyaplot', render, false);\n",
       "\treturn;\n",
       "    } else {\n",
       "       render();\n",
       "    }\n",
       "})();\n",
       "</script>\n"
      ],
      "text/plain": [
       "#<Nyaplot::Frame:0x00000001d3f2d8 @properties={:panes=>[#<Nyaplot::Plot:0x00000001d42f50 @properties={:diagrams=>[#<Nyaplot::Diagram:0x00000001d40480 @properties={:type=>:line, :options=>{:x=>\"data0\", :y=>\"data1\"}, :data=>\"d8d6fd53-0302-447b-bdef-3e31ee002d28\"}, @xrange=[1.0, 10.0], @yrange=[0.7853981633974483, 1.4711276743037347]>], :options=>{:zoom=>true, :width=>700, :xrange=>[1.0, 10.0], :yrange=>[0.7853981633974483, 1.4711276743037347]}}>], :data=>{\"d8d6fd53-0302-447b-bdef-3e31ee002d28\"=>#<Nyaplot::DataFrame:0x00000001d429b0 @name=\"d8d6fd53-0302-447b-bdef-3e31ee002d28\", @rows=[{:data0=>1.0, :data1=>0.7853981633974483}, {:data0=>2.0, :data1=>1.1071487177940904}, {:data0=>3.0, :data1=>1.2490457723982544}, {:data0=>4.0, :data1=>1.3258176636680326}, {:data0=>5.0, :data1=>1.373400766945016}, {:data0=>6.0, :data1=>1.4056476493802699}, {:data0=>7.0, :data1=>1.4288992721907328}, {:data0=>8.0, :data1=>1.446441332248135}, {:data0=>9.0, :data1=>1.460139105621001}, {:data0=>10.0, :data1=>1.4711276743037347}]>}, :extension=>[]}>"
      ]
     },
     "metadata": {},
     "output_type": "display_data"
    },
    {
     "data": {
      "text/html": [
       "<div id='vis-c4c16944-0e2d-4ff0-af80-6e90a10dba0e'></div>\n",
       "<script>\n",
       "(function(){\n",
       "    var render = function(){\n",
       "        var model = {\"panes\":[{\"diagrams\":[{\"type\":\"line\",\"options\":{\"x\":\"data0\",\"y\":\"data1\"},\"data\":\"0f04cd5a-6713-453d-a6ed-bb3dac2ba74e\"}],\"options\":{\"zoom\":true,\"width\":700,\"xrange\":[1.0,10.0],\"yrange\":[0.7853981633974483,1.4711276743037345]}}],\"data\":{\"0f04cd5a-6713-453d-a6ed-bb3dac2ba74e\":[{\"data0\":1.0,\"data1\":0.7853981633974483},{\"data0\":2.0,\"data1\":1.1071487177940904},{\"data0\":3.0,\"data1\":1.2490457723982544},{\"data0\":4.0,\"data1\":1.3258176636680323},{\"data0\":5.0,\"data1\":1.3734007669450157},{\"data0\":6.0,\"data1\":1.4056476493802696},{\"data0\":7.0,\"data1\":1.4288992721907325},{\"data0\":8.0,\"data1\":1.446441332248135},{\"data0\":9.0,\"data1\":1.460139105621001},{\"data0\":10.0,\"data1\":1.4711276743037345}]},\"extension\":[]}\n",
       "        var id_name = '#vis-c4c16944-0e2d-4ff0-af80-6e90a10dba0e';\n",
       "        Nyaplot.core.parse(model, id_name);\n",
       "\n",
       "        require(['downloadable'], function(downloadable){\n",
       "          var svg = d3.select(id_name).select(\"svg\");\n",
       "\t  if(!svg.empty())\n",
       "\t    svg.call(downloadable().filename('fig'));\n",
       "\t});\n",
       "    };\n",
       "    if(window['Nyaplot']==undefined){\n",
       "        window.addEventListener('load_nyaplot', render, false);\n",
       "\treturn;\n",
       "    } else {\n",
       "       render();\n",
       "    }\n",
       "})();\n",
       "</script>\n"
      ],
      "text/plain": [
       "#<Nyaplot::Frame:0x00000001bb7528 @properties={:panes=>[#<Nyaplot::Plot:0x00000001d36098 @properties={:diagrams=>[#<Nyaplot::Diagram:0x00000001d34068 @properties={:type=>:line, :options=>{:x=>\"data0\", :y=>\"data1\"}, :data=>\"0f04cd5a-6713-453d-a6ed-bb3dac2ba74e\"}, @xrange=[1.0, 10.0], @yrange=[0.7853981633974483, 1.4711276743037345]>], :options=>{:zoom=>true, :width=>700, :xrange=>[1.0, 10.0], :yrange=>[0.7853981633974483, 1.4711276743037345]}}>], :data=>{\"0f04cd5a-6713-453d-a6ed-bb3dac2ba74e\"=>#<Nyaplot::DataFrame:0x00000001d35940 @name=\"0f04cd5a-6713-453d-a6ed-bb3dac2ba74e\", @rows=[{:data0=>1.0, :data1=>0.7853981633974483}, {:data0=>2.0, :data1=>1.1071487177940904}, {:data0=>3.0, :data1=>1.2490457723982544}, {:data0=>4.0, :data1=>1.3258176636680323}, {:data0=>5.0, :data1=>1.3734007669450157}, {:data0=>6.0, :data1=>1.4056476493802696}, {:data0=>7.0, :data1=>1.4288992721907325}, {:data0=>8.0, :data1=>1.446441332248135}, {:data0=>9.0, :data1=>1.460139105621001}, {:data0=>10.0, :data1=>1.4711276743037345}]>}, :extension=>[]}>"
      ]
     },
     "metadata": {},
     "output_type": "display_data"
    }
   ],
   "source": [
    "def ATan(x)\n",
    "    return Math.atan(x) if x.abs <= 1\n",
    "    print \"Wywołano funkcję ATan z |x| > 1\"\n",
    "end\n",
    "\n",
    "def FATan(x)\n",
    "    if x < 0\n",
    "        a = - (Math::PI / 2.0)\n",
    "     return a - ATan(1.0/x)\n",
    "    elsif x == 0\n",
    "     return ATan(x)\n",
    "    else\n",
    "        a = (Math::PI / 2.0)\n",
    "     return a - ATan(1.0/x)\n",
    "    end\n",
    "end\n",
    "\n",
    "\n",
    "a = Function.new{|x| Math.atan(x)}\n",
    "b = Function.new{|x| FATan(x)}\n",
    "a.plot 1 ,10\n",
    "b.plot 1 ,10"
   ]
  },
  {
   "cell_type": "code",
   "execution_count": 13,
   "metadata": {
    "slideshow": {
     "slide_type": "slide"
    }
   },
   "outputs": [
    {
     "data": {
      "text/html": [
       "<div id='vis-36db9852-aeb5-4c54-b50f-03f9f0a7b40e'></div>\n",
       "<script>\n",
       "(function(){\n",
       "    var render = function(){\n",
       "        var model = {\"panes\":[{\"diagrams\":[{\"type\":\"line\",\"options\":{\"x\":\"data0\",\"y\":\"data1\"},\"data\":\"ec3ccceb-4b47-420a-9b67-df4292dcb68e\"}],\"options\":{\"zoom\":true,\"width\":700,\"xrange\":[-10.0,10.0],\"yrange\":[-1.4711276743037347,1.4711276743037347]}}],\"data\":{\"ec3ccceb-4b47-420a-9b67-df4292dcb68e\":[{\"data0\":-10.0,\"data1\":-1.4711276743037347},{\"data0\":-9.0,\"data1\":-1.460139105621001},{\"data0\":-8.0,\"data1\":-1.446441332248135},{\"data0\":-7.0,\"data1\":-1.4288992721907328},{\"data0\":-6.0,\"data1\":-1.4056476493802699},{\"data0\":-5.0,\"data1\":-1.373400766945016},{\"data0\":-4.0,\"data1\":-1.3258176636680326},{\"data0\":-3.0,\"data1\":-1.2490457723982544},{\"data0\":-2.0,\"data1\":-1.1071487177940904},{\"data0\":-1.0,\"data1\":-0.7853981633974483},{\"data0\":0.0,\"data1\":0.0},{\"data0\":1.0,\"data1\":0.7853981633974483},{\"data0\":2.0,\"data1\":1.1071487177940904},{\"data0\":3.0,\"data1\":1.2490457723982544},{\"data0\":4.0,\"data1\":1.3258176636680326},{\"data0\":5.0,\"data1\":1.373400766945016},{\"data0\":6.0,\"data1\":1.4056476493802699},{\"data0\":7.0,\"data1\":1.4288992721907328},{\"data0\":8.0,\"data1\":1.446441332248135},{\"data0\":9.0,\"data1\":1.460139105621001},{\"data0\":10.0,\"data1\":1.4711276743037347}]},\"extension\":[]}\n",
       "        var id_name = '#vis-36db9852-aeb5-4c54-b50f-03f9f0a7b40e';\n",
       "        Nyaplot.core.parse(model, id_name);\n",
       "\n",
       "        require(['downloadable'], function(downloadable){\n",
       "          var svg = d3.select(id_name).select(\"svg\");\n",
       "\t  if(!svg.empty())\n",
       "\t    svg.call(downloadable().filename('fig'));\n",
       "\t});\n",
       "    };\n",
       "    if(window['Nyaplot']==undefined){\n",
       "        window.addEventListener('load_nyaplot', render, false);\n",
       "\treturn;\n",
       "    } else {\n",
       "       render();\n",
       "    }\n",
       "})();\n",
       "</script>\n"
      ],
      "text/plain": [
       "#<Nyaplot::Frame:0x00000001b8e9c0 @properties={:panes=>[#<Nyaplot::Plot:0x00000001b92c00 @properties={:diagrams=>[#<Nyaplot::Diagram:0x00000001b8f3e8 @properties={:type=>:line, :options=>{:x=>\"data0\", :y=>\"data1\"}, :data=>\"ec3ccceb-4b47-420a-9b67-df4292dcb68e\"}, @xrange=[-10.0, 10.0], @yrange=[-1.4711276743037347, 1.4711276743037347]>], :options=>{:zoom=>true, :width=>700, :xrange=>[-10.0, 10.0], :yrange=>[-1.4711276743037347, 1.4711276743037347]}}>], :data=>{\"ec3ccceb-4b47-420a-9b67-df4292dcb68e\"=>#<Nyaplot::DataFrame:0x00000001b92188 @name=\"ec3ccceb-4b47-420a-9b67-df4292dcb68e\", @rows=[{:data0=>-10.0, :data1=>-1.4711276743037347}, {:data0=>-9.0, :data1=>-1.460139105621001}, {:data0=>-8.0, :data1=>-1.446441332248135}, {:data0=>-7.0, :data1=>-1.4288992721907328}, {:data0=>-6.0, :data1=>-1.4056476493802699}, {:data0=>-5.0, :data1=>-1.373400766945016}, {:data0=>-4.0, :data1=>-1.3258176636680326}, {:data0=>-3.0, :data1=>-1.2490457723982544}, {:data0=>-2.0, :data1=>-1.1071487177940904}, {:data0=>-1.0, :data1=>-0.7853981633974483}, {:data0=>0.0, :data1=>0.0}, {:data0=>1.0, :data1=>0.7853981633974483}, {:data0=>2.0, :data1=>1.1071487177940904}, {:data0=>3.0, :data1=>1.2490457723982544}, {:data0=>4.0, :data1=>1.3258176636680326}, {:data0=>5.0, :data1=>1.373400766945016}, {:data0=>6.0, :data1=>1.4056476493802699}, {:data0=>7.0, :data1=>1.4288992721907328}, {:data0=>8.0, :data1=>1.446441332248135}, {:data0=>9.0, :data1=>1.460139105621001}, {:data0=>10.0, :data1=>1.4711276743037347}]>}, :extension=>[]}>"
      ]
     },
     "metadata": {},
     "output_type": "display_data"
    }
   ],
   "source": [
    "a.plot -10, 10"
   ]
  },
  {
   "cell_type": "code",
   "execution_count": 14,
   "metadata": {
    "slideshow": {
     "slide_type": "slide"
    }
   },
   "outputs": [
    {
     "data": {
      "text/html": [
       "<div id='vis-fdb08bea-dd85-4f76-8b03-2f02b5262096'></div>\n",
       "<script>\n",
       "(function(){\n",
       "    var render = function(){\n",
       "        var model = {\"panes\":[{\"diagrams\":[{\"type\":\"line\",\"options\":{\"x\":\"data0\",\"y\":\"data1\"},\"data\":\"b5eb06b6-1a96-4be0-9f6f-75dc1c2406b5\"}],\"options\":{\"zoom\":true,\"width\":700,\"xrange\":[-10.0,10.0],\"yrange\":[-1.4711276743037345,1.4711276743037345]}}],\"data\":{\"b5eb06b6-1a96-4be0-9f6f-75dc1c2406b5\":[{\"data0\":-10.0,\"data1\":-1.4711276743037345},{\"data0\":-9.0,\"data1\":-1.460139105621001},{\"data0\":-8.0,\"data1\":-1.446441332248135},{\"data0\":-7.0,\"data1\":-1.4288992721907325},{\"data0\":-6.0,\"data1\":-1.4056476493802696},{\"data0\":-5.0,\"data1\":-1.3734007669450157},{\"data0\":-4.0,\"data1\":-1.3258176636680323},{\"data0\":-3.0,\"data1\":-1.2490457723982544},{\"data0\":-2.0,\"data1\":-1.1071487177940904},{\"data0\":-1.0,\"data1\":-0.7853981633974483},{\"data0\":0.0,\"data1\":0.0},{\"data0\":1.0,\"data1\":0.7853981633974483},{\"data0\":2.0,\"data1\":1.1071487177940904},{\"data0\":3.0,\"data1\":1.2490457723982544},{\"data0\":4.0,\"data1\":1.3258176636680323},{\"data0\":5.0,\"data1\":1.3734007669450157},{\"data0\":6.0,\"data1\":1.4056476493802696},{\"data0\":7.0,\"data1\":1.4288992721907325},{\"data0\":8.0,\"data1\":1.446441332248135},{\"data0\":9.0,\"data1\":1.460139105621001},{\"data0\":10.0,\"data1\":1.4711276743037345}]},\"extension\":[]}\n",
       "        var id_name = '#vis-fdb08bea-dd85-4f76-8b03-2f02b5262096';\n",
       "        Nyaplot.core.parse(model, id_name);\n",
       "\n",
       "        require(['downloadable'], function(downloadable){\n",
       "          var svg = d3.select(id_name).select(\"svg\");\n",
       "\t  if(!svg.empty())\n",
       "\t    svg.call(downloadable().filename('fig'));\n",
       "\t});\n",
       "    };\n",
       "    if(window['Nyaplot']==undefined){\n",
       "        window.addEventListener('load_nyaplot', render, false);\n",
       "\treturn;\n",
       "    } else {\n",
       "       render();\n",
       "    }\n",
       "})();\n",
       "</script>\n"
      ],
      "text/plain": [
       "#<Nyaplot::Frame:0x00000001abbde0 @properties={:panes=>[#<Nyaplot::Plot:0x00000001af3358 @properties={:diagrams=>[#<Nyaplot::Diagram:0x00000001abe978 @properties={:type=>:line, :options=>{:x=>\"data0\", :y=>\"data1\"}, :data=>\"b5eb06b6-1a96-4be0-9f6f-75dc1c2406b5\"}, @xrange=[-10.0, 10.0], @yrange=[-1.4711276743037345, 1.4711276743037345]>], :options=>{:zoom=>true, :width=>700, :xrange=>[-10.0, 10.0], :yrange=>[-1.4711276743037345, 1.4711276743037345]}}>], :data=>{\"b5eb06b6-1a96-4be0-9f6f-75dc1c2406b5\"=>#<Nyaplot::DataFrame:0x00000001ae7030 @name=\"b5eb06b6-1a96-4be0-9f6f-75dc1c2406b5\", @rows=[{:data0=>-10.0, :data1=>-1.4711276743037345}, {:data0=>-9.0, :data1=>-1.460139105621001}, {:data0=>-8.0, :data1=>-1.446441332248135}, {:data0=>-7.0, :data1=>-1.4288992721907325}, {:data0=>-6.0, :data1=>-1.4056476493802696}, {:data0=>-5.0, :data1=>-1.3734007669450157}, {:data0=>-4.0, :data1=>-1.3258176636680323}, {:data0=>-3.0, :data1=>-1.2490457723982544}, {:data0=>-2.0, :data1=>-1.1071487177940904}, {:data0=>-1.0, :data1=>-0.7853981633974483}, {:data0=>0.0, :data1=>0.0}, {:data0=>1.0, :data1=>0.7853981633974483}, {:data0=>2.0, :data1=>1.1071487177940904}, {:data0=>3.0, :data1=>1.2490457723982544}, {:data0=>4.0, :data1=>1.3258176636680323}, {:data0=>5.0, :data1=>1.3734007669450157}, {:data0=>6.0, :data1=>1.4056476493802696}, {:data0=>7.0, :data1=>1.4288992721907325}, {:data0=>8.0, :data1=>1.446441332248135}, {:data0=>9.0, :data1=>1.460139105621001}, {:data0=>10.0, :data1=>1.4711276743037345}]>}, :extension=>[]}>"
      ]
     },
     "metadata": {},
     "output_type": "display_data"
    }
   ],
   "source": [
    "b.plot -10,10"
   ]
  },
  {
   "cell_type": "code",
   "execution_count": null,
   "metadata": {
    "collapsed": true
   },
   "outputs": [],
   "source": []
  }
 ],
 "metadata": {
  "celltoolbar": "Slideshow",
  "kernelspec": {
   "display_name": "Ruby 2.4.0",
   "language": "ruby",
   "name": "ruby"
  },
  "language_info": {
   "file_extension": ".rb",
   "mimetype": "application/x-ruby",
   "name": "ruby",
   "version": "2.4.0"
  }
 },
 "nbformat": 4,
 "nbformat_minor": 2
}
