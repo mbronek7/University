{
 "cells": [
  {
   "cell_type": "code",
   "execution_count": 2,
   "metadata": {},
   "outputs": [
    {
     "data": {
      "text/plain": [
       ":plot2"
      ]
     },
     "execution_count": 2,
     "metadata": {},
     "output_type": "execute_result"
    }
   ],
   "source": [
    "require 'nyaplot'\n",
    "require 'gnuplot'\n",
    "class Function\n",
    " \n",
    "  def initialize(&block)\n",
    "     @function = block\n",
    "  end\n",
    "\n",
    "  def value (x)   \n",
    "    @function.call x\n",
    "  end\n",
    " \n",
    "  \n",
    " def plot a, b\n",
    "   x = []; y = []; \n",
    "   x = (a..b) .collect { |v| v.to_f }\n",
    "   y = x.collect { |v| value(v)}\n",
    "   plot1 = Nyaplot::Plot.new\n",
    "   plot1.add(:line, x, y)\n",
    "   plot1.show\n",
    "end\n",
    "\n",
    " \n",
    "def plot2 a, b\n",
    "\n",
    "    Gnuplot.open do |gp|\n",
    "     Gnuplot::Plot.new( gp ) do |plot|\n",
    "\n",
    "         \n",
    "         plot.xrange \"[#{a}:#{b}]\"\n",
    "         plot.ylabel \"y\"\n",
    "         plot.xlabel \"x\"\n",
    "\n",
    "         x = (a..b) .collect { |v|v.to_f }\n",
    "         y = x.collect { |v| value(v)}\n",
    "\n",
    "         plot.data << Gnuplot::DataSet.new( [x, y] ) do |ds|\n",
    "          ds.with = \"lines\"\n",
    "         end\n",
    "\n",
    "\n",
    "     end\n",
    "    end\n",
    "end  \n",
    "  \n",
    "end"
   ]
  },
  {
   "cell_type": "code",
   "execution_count": 3,
   "metadata": {
    "slideshow": {
     "slide_type": "slide"
    }
   },
   "outputs": [
    {
     "data": {
      "text/html": [
       "<div id='vis-2cdec716-d874-4881-827c-f692186f20d2'></div>\n",
       "<script>\n",
       "(function(){\n",
       "    var render = function(){\n",
       "        var model = {\"panes\":[{\"diagrams\":[{\"type\":\"line\",\"options\":{\"x\":\"data0\",\"y\":\"data1\"},\"data\":\"28341609-f056-4305-be89-b7d4856436a7\"}],\"options\":{\"zoom\":true,\"width\":700,\"xrange\":[1.0,10.0],\"yrange\":[0.7853981633974483,1.4711276743037347]}}],\"data\":{\"28341609-f056-4305-be89-b7d4856436a7\":[{\"data0\":1.0,\"data1\":0.7853981633974483},{\"data0\":2.0,\"data1\":1.1071487177940904},{\"data0\":3.0,\"data1\":1.2490457723982544},{\"data0\":4.0,\"data1\":1.3258176636680326},{\"data0\":5.0,\"data1\":1.373400766945016},{\"data0\":6.0,\"data1\":1.4056476493802699},{\"data0\":7.0,\"data1\":1.4288992721907328},{\"data0\":8.0,\"data1\":1.446441332248135},{\"data0\":9.0,\"data1\":1.460139105621001},{\"data0\":10.0,\"data1\":1.4711276743037347}]},\"extension\":[]}\n",
       "        var id_name = '#vis-2cdec716-d874-4881-827c-f692186f20d2';\n",
       "        Nyaplot.core.parse(model, id_name);\n",
       "\n",
       "        require(['downloadable'], function(downloadable){\n",
       "          var svg = d3.select(id_name).select(\"svg\");\n",
       "\t  if(!svg.empty())\n",
       "\t    svg.call(downloadable().filename('fig'));\n",
       "\t});\n",
       "    };\n",
       "    if(window['Nyaplot']==undefined){\n",
       "        window.addEventListener('load_nyaplot', render, false);\n",
       "\treturn;\n",
       "    } else {\n",
       "       render();\n",
       "    }\n",
       "})();\n",
       "</script>\n"
      ],
      "text/plain": [
       "#<Nyaplot::Frame:0x000000011297f0 @properties={:panes=>[#<Nyaplot::Plot:0x0000000112b9b0 @properties={:diagrams=>[#<Nyaplot::Diagram:0x0000000112a010 @properties={:type=>:line, :options=>{:x=>\"data0\", :y=>\"data1\"}, :data=>\"28341609-f056-4305-be89-b7d4856436a7\"}, @xrange=[1.0, 10.0], @yrange=[0.7853981633974483, 1.4711276743037347]>], :options=>{:zoom=>true, :width=>700, :xrange=>[1.0, 10.0], :yrange=>[0.7853981633974483, 1.4711276743037347]}}>], :data=>{\"28341609-f056-4305-be89-b7d4856436a7\"=>#<Nyaplot::DataFrame:0x0000000112b320 @name=\"28341609-f056-4305-be89-b7d4856436a7\", @rows=[{:data0=>1.0, :data1=>0.7853981633974483}, {:data0=>2.0, :data1=>1.1071487177940904}, {:data0=>3.0, :data1=>1.2490457723982544}, {:data0=>4.0, :data1=>1.3258176636680326}, {:data0=>5.0, :data1=>1.373400766945016}, {:data0=>6.0, :data1=>1.4056476493802699}, {:data0=>7.0, :data1=>1.4288992721907328}, {:data0=>8.0, :data1=>1.446441332248135}, {:data0=>9.0, :data1=>1.460139105621001}, {:data0=>10.0, :data1=>1.4711276743037347}]>}, :extension=>[]}>"
      ]
     },
     "metadata": {},
     "output_type": "display_data"
    },
    {
     "data": {
      "text/html": [
       "<div id='vis-e98d667f-a191-4432-9ab9-892b60e2f7d5'></div>\n",
       "<script>\n",
       "(function(){\n",
       "    var render = function(){\n",
       "        var model = {\"panes\":[{\"diagrams\":[{\"type\":\"line\",\"options\":{\"x\":\"data0\",\"y\":\"data1\"},\"data\":\"e3e9fbac-1c7d-4738-9d03-06455d908941\"}],\"options\":{\"zoom\":true,\"width\":700,\"xrange\":[1.0,10.0],\"yrange\":[0.7853981633974483,1.4711276743037345]}}],\"data\":{\"e3e9fbac-1c7d-4738-9d03-06455d908941\":[{\"data0\":1.0,\"data1\":0.7853981633974483},{\"data0\":2.0,\"data1\":1.1071487177940904},{\"data0\":3.0,\"data1\":1.2490457723982544},{\"data0\":4.0,\"data1\":1.3258176636680323},{\"data0\":5.0,\"data1\":1.3734007669450157},{\"data0\":6.0,\"data1\":1.4056476493802696},{\"data0\":7.0,\"data1\":1.4288992721907325},{\"data0\":8.0,\"data1\":1.446441332248135},{\"data0\":9.0,\"data1\":1.460139105621001},{\"data0\":10.0,\"data1\":1.4711276743037345}]},\"extension\":[]}\n",
       "        var id_name = '#vis-e98d667f-a191-4432-9ab9-892b60e2f7d5';\n",
       "        Nyaplot.core.parse(model, id_name);\n",
       "\n",
       "        require(['downloadable'], function(downloadable){\n",
       "          var svg = d3.select(id_name).select(\"svg\");\n",
       "\t  if(!svg.empty())\n",
       "\t    svg.call(downloadable().filename('fig'));\n",
       "\t});\n",
       "    };\n",
       "    if(window['Nyaplot']==undefined){\n",
       "        window.addEventListener('load_nyaplot', render, false);\n",
       "\treturn;\n",
       "    } else {\n",
       "       render();\n",
       "    }\n",
       "})();\n",
       "</script>\n"
      ],
      "text/plain": [
       "#<Nyaplot::Frame:0x000000010f27f0 @properties={:panes=>[#<Nyaplot::Plot:0x000000011091f8 @properties={:diagrams=>[#<Nyaplot::Diagram:0x000000010f2d90 @properties={:type=>:line, :options=>{:x=>\"data0\", :y=>\"data1\"}, :data=>\"e3e9fbac-1c7d-4738-9d03-06455d908941\"}, @xrange=[1.0, 10.0], @yrange=[0.7853981633974483, 1.4711276743037345]>], :options=>{:zoom=>true, :width=>700, :xrange=>[1.0, 10.0], :yrange=>[0.7853981633974483, 1.4711276743037345]}}>], :data=>{\"e3e9fbac-1c7d-4738-9d03-06455d908941\"=>#<Nyaplot::DataFrame:0x000000010f6fd0 @name=\"e3e9fbac-1c7d-4738-9d03-06455d908941\", @rows=[{:data0=>1.0, :data1=>0.7853981633974483}, {:data0=>2.0, :data1=>1.1071487177940904}, {:data0=>3.0, :data1=>1.2490457723982544}, {:data0=>4.0, :data1=>1.3258176636680323}, {:data0=>5.0, :data1=>1.3734007669450157}, {:data0=>6.0, :data1=>1.4056476493802696}, {:data0=>7.0, :data1=>1.4288992721907325}, {:data0=>8.0, :data1=>1.446441332248135}, {:data0=>9.0, :data1=>1.460139105621001}, {:data0=>10.0, :data1=>1.4711276743037345}]>}, :extension=>[]}>"
      ]
     },
     "metadata": {},
     "output_type": "display_data"
    }
   ],
   "source": [
    "def ATan(x)\n",
    "    return Math.atan(x) if x.abs <= 1\n",
    "    print \"Wywołano funkcję ATan z |x| > 1\"\n",
    "end\n",
    "\n",
    "def FATan(x)\n",
    "    if x < 0\n",
    "        a = - (Math::PI / 2.0)\n",
    "     return a - ATan(1.0/x)\n",
    "    elsif x == 0\n",
    "     return ATan(x)\n",
    "    else\n",
    "        a = (Math::PI / 2.0)\n",
    "     return a - ATan(1.0/x)\n",
    "    end\n",
    "end\n",
    "\n",
    "\n",
    "a = Function.new{|x| Math.atan(x)}\n",
    "b = Function.new{|x| FATan(x)}\n",
    "a.plot 1 ,10\n",
    "b.plot 1 ,10"
   ]
  },
  {
   "cell_type": "code",
   "execution_count": 4,
   "metadata": {
    "slideshow": {
     "slide_type": "slide"
    }
   },
   "outputs": [
    {
     "data": {
      "text/html": [
       "<div id='vis-62192475-7215-4cfc-90c8-b39069d70df8'></div>\n",
       "<script>\n",
       "(function(){\n",
       "    var render = function(){\n",
       "        var model = {\"panes\":[{\"diagrams\":[{\"type\":\"line\",\"options\":{\"x\":\"data0\",\"y\":\"data1\"},\"data\":\"21d3d6aa-defe-4d8b-a9f1-f65ab78fa672\"}],\"options\":{\"zoom\":true,\"width\":700,\"xrange\":[-10.0,10.0],\"yrange\":[-1.4711276743037347,1.4711276743037347]}}],\"data\":{\"21d3d6aa-defe-4d8b-a9f1-f65ab78fa672\":[{\"data0\":-10.0,\"data1\":-1.4711276743037347},{\"data0\":-9.0,\"data1\":-1.460139105621001},{\"data0\":-8.0,\"data1\":-1.446441332248135},{\"data0\":-7.0,\"data1\":-1.4288992721907328},{\"data0\":-6.0,\"data1\":-1.4056476493802699},{\"data0\":-5.0,\"data1\":-1.373400766945016},{\"data0\":-4.0,\"data1\":-1.3258176636680326},{\"data0\":-3.0,\"data1\":-1.2490457723982544},{\"data0\":-2.0,\"data1\":-1.1071487177940904},{\"data0\":-1.0,\"data1\":-0.7853981633974483},{\"data0\":0.0,\"data1\":0.0},{\"data0\":1.0,\"data1\":0.7853981633974483},{\"data0\":2.0,\"data1\":1.1071487177940904},{\"data0\":3.0,\"data1\":1.2490457723982544},{\"data0\":4.0,\"data1\":1.3258176636680326},{\"data0\":5.0,\"data1\":1.373400766945016},{\"data0\":6.0,\"data1\":1.4056476493802699},{\"data0\":7.0,\"data1\":1.4288992721907328},{\"data0\":8.0,\"data1\":1.446441332248135},{\"data0\":9.0,\"data1\":1.460139105621001},{\"data0\":10.0,\"data1\":1.4711276743037347}]},\"extension\":[]}\n",
       "        var id_name = '#vis-62192475-7215-4cfc-90c8-b39069d70df8';\n",
       "        Nyaplot.core.parse(model, id_name);\n",
       "\n",
       "        require(['downloadable'], function(downloadable){\n",
       "          var svg = d3.select(id_name).select(\"svg\");\n",
       "\t  if(!svg.empty())\n",
       "\t    svg.call(downloadable().filename('fig'));\n",
       "\t});\n",
       "    };\n",
       "    if(window['Nyaplot']==undefined){\n",
       "        window.addEventListener('load_nyaplot', render, false);\n",
       "\treturn;\n",
       "    } else {\n",
       "       render();\n",
       "    }\n",
       "})();\n",
       "</script>\n"
      ],
      "text/plain": [
       "#<Nyaplot::Frame:0x000000010c98f0 @properties={:panes=>[#<Nyaplot::Plot:0x000000010cda18 @properties={:diagrams=>[#<Nyaplot::Diagram:0x000000010ca160 @properties={:type=>:line, :options=>{:x=>\"data0\", :y=>\"data1\"}, :data=>\"21d3d6aa-defe-4d8b-a9f1-f65ab78fa672\"}, @xrange=[-10.0, 10.0], @yrange=[-1.4711276743037347, 1.4711276743037347]>], :options=>{:zoom=>true, :width=>700, :xrange=>[-10.0, 10.0], :yrange=>[-1.4711276743037347, 1.4711276743037347]}}>], :data=>{\"21d3d6aa-defe-4d8b-a9f1-f65ab78fa672\"=>#<Nyaplot::DataFrame:0x000000010cd090 @name=\"21d3d6aa-defe-4d8b-a9f1-f65ab78fa672\", @rows=[{:data0=>-10.0, :data1=>-1.4711276743037347}, {:data0=>-9.0, :data1=>-1.460139105621001}, {:data0=>-8.0, :data1=>-1.446441332248135}, {:data0=>-7.0, :data1=>-1.4288992721907328}, {:data0=>-6.0, :data1=>-1.4056476493802699}, {:data0=>-5.0, :data1=>-1.373400766945016}, {:data0=>-4.0, :data1=>-1.3258176636680326}, {:data0=>-3.0, :data1=>-1.2490457723982544}, {:data0=>-2.0, :data1=>-1.1071487177940904}, {:data0=>-1.0, :data1=>-0.7853981633974483}, {:data0=>0.0, :data1=>0.0}, {:data0=>1.0, :data1=>0.7853981633974483}, {:data0=>2.0, :data1=>1.1071487177940904}, {:data0=>3.0, :data1=>1.2490457723982544}, {:data0=>4.0, :data1=>1.3258176636680326}, {:data0=>5.0, :data1=>1.373400766945016}, {:data0=>6.0, :data1=>1.4056476493802699}, {:data0=>7.0, :data1=>1.4288992721907328}, {:data0=>8.0, :data1=>1.446441332248135}, {:data0=>9.0, :data1=>1.460139105621001}, {:data0=>10.0, :data1=>1.4711276743037347}]>}, :extension=>[]}>"
      ]
     },
     "metadata": {},
     "output_type": "display_data"
    }
   ],
   "source": [
    "a.plot -10, 10"
   ]
  },
  {
   "cell_type": "code",
   "execution_count": 5,
   "metadata": {
    "slideshow": {
     "slide_type": "slide"
    }
   },
   "outputs": [
    {
     "data": {
      "text/html": [
       "<div id='vis-2cbfd271-deb3-4202-8060-a654e18203c5'></div>\n",
       "<script>\n",
       "(function(){\n",
       "    var render = function(){\n",
       "        var model = {\"panes\":[{\"diagrams\":[{\"type\":\"line\",\"options\":{\"x\":\"data0\",\"y\":\"data1\"},\"data\":\"7b70a8ee-064c-4881-877b-0eb9401fe4ef\"}],\"options\":{\"zoom\":true,\"width\":700,\"xrange\":[-10.0,10.0],\"yrange\":[-1.4711276743037345,1.4711276743037345]}}],\"data\":{\"7b70a8ee-064c-4881-877b-0eb9401fe4ef\":[{\"data0\":-10.0,\"data1\":-1.4711276743037345},{\"data0\":-9.0,\"data1\":-1.460139105621001},{\"data0\":-8.0,\"data1\":-1.446441332248135},{\"data0\":-7.0,\"data1\":-1.4288992721907325},{\"data0\":-6.0,\"data1\":-1.4056476493802696},{\"data0\":-5.0,\"data1\":-1.3734007669450157},{\"data0\":-4.0,\"data1\":-1.3258176636680323},{\"data0\":-3.0,\"data1\":-1.2490457723982544},{\"data0\":-2.0,\"data1\":-1.1071487177940904},{\"data0\":-1.0,\"data1\":-0.7853981633974483},{\"data0\":0.0,\"data1\":0.0},{\"data0\":1.0,\"data1\":0.7853981633974483},{\"data0\":2.0,\"data1\":1.1071487177940904},{\"data0\":3.0,\"data1\":1.2490457723982544},{\"data0\":4.0,\"data1\":1.3258176636680323},{\"data0\":5.0,\"data1\":1.3734007669450157},{\"data0\":6.0,\"data1\":1.4056476493802696},{\"data0\":7.0,\"data1\":1.4288992721907325},{\"data0\":8.0,\"data1\":1.446441332248135},{\"data0\":9.0,\"data1\":1.460139105621001},{\"data0\":10.0,\"data1\":1.4711276743037345}]},\"extension\":[]}\n",
       "        var id_name = '#vis-2cbfd271-deb3-4202-8060-a654e18203c5';\n",
       "        Nyaplot.core.parse(model, id_name);\n",
       "\n",
       "        require(['downloadable'], function(downloadable){\n",
       "          var svg = d3.select(id_name).select(\"svg\");\n",
       "\t  if(!svg.empty())\n",
       "\t    svg.call(downloadable().filename('fig'));\n",
       "\t});\n",
       "    };\n",
       "    if(window['Nyaplot']==undefined){\n",
       "        window.addEventListener('load_nyaplot', render, false);\n",
       "\treturn;\n",
       "    } else {\n",
       "       render();\n",
       "    }\n",
       "})();\n",
       "</script>\n"
      ],
      "text/plain": [
       "#<Nyaplot::Frame:0x00000000f783e8 @properties={:panes=>[#<Nyaplot::Plot:0x00000000f7a710 @properties={:diagrams=>[#<Nyaplot::Diagram:0x00000000f788e8 @properties={:type=>:line, :options=>{:x=>\"data0\", :y=>\"data1\"}, :data=>\"7b70a8ee-064c-4881-877b-0eb9401fe4ef\"}, @xrange=[-10.0, 10.0], @yrange=[-1.4711276743037345, 1.4711276743037345]>], :options=>{:zoom=>true, :width=>700, :xrange=>[-10.0, 10.0], :yrange=>[-1.4711276743037345, 1.4711276743037345]}}>], :data=>{\"7b70a8ee-064c-4881-877b-0eb9401fe4ef\"=>#<Nyaplot::DataFrame:0x00000000f7a210 @name=\"7b70a8ee-064c-4881-877b-0eb9401fe4ef\", @rows=[{:data0=>-10.0, :data1=>-1.4711276743037345}, {:data0=>-9.0, :data1=>-1.460139105621001}, {:data0=>-8.0, :data1=>-1.446441332248135}, {:data0=>-7.0, :data1=>-1.4288992721907325}, {:data0=>-6.0, :data1=>-1.4056476493802696}, {:data0=>-5.0, :data1=>-1.3734007669450157}, {:data0=>-4.0, :data1=>-1.3258176636680323}, {:data0=>-3.0, :data1=>-1.2490457723982544}, {:data0=>-2.0, :data1=>-1.1071487177940904}, {:data0=>-1.0, :data1=>-0.7853981633974483}, {:data0=>0.0, :data1=>0.0}, {:data0=>1.0, :data1=>0.7853981633974483}, {:data0=>2.0, :data1=>1.1071487177940904}, {:data0=>3.0, :data1=>1.2490457723982544}, {:data0=>4.0, :data1=>1.3258176636680323}, {:data0=>5.0, :data1=>1.3734007669450157}, {:data0=>6.0, :data1=>1.4056476493802696}, {:data0=>7.0, :data1=>1.4288992721907325}, {:data0=>8.0, :data1=>1.446441332248135}, {:data0=>9.0, :data1=>1.460139105621001}, {:data0=>10.0, :data1=>1.4711276743037345}]>}, :extension=>[]}>"
      ]
     },
     "metadata": {},
     "output_type": "display_data"
    }
   ],
   "source": [
    "b.plot -10,10"
   ]
  },
  {
   "cell_type": "code",
   "execution_count": null,
   "metadata": {
    "collapsed": true
   },
   "outputs": [],
   "source": []
  }
 ],
 "metadata": {
  "celltoolbar": "Slideshow",
  "kernelspec": {
   "display_name": "Ruby 2.4.0",
   "language": "ruby",
   "name": "ruby"
  },
  "language_info": {
   "file_extension": ".rb",
   "mimetype": "application/x-ruby",
   "name": "ruby",
   "version": "2.4.0"
  }
 },
 "nbformat": 4,
 "nbformat_minor": 2
}
